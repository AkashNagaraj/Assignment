{
 "cells": [
  {
   "cell_type": "markdown",
   "id": "07170e2f",
   "metadata": {},
   "source": [
    "## Import Libraries"
   ]
  },
  {
   "cell_type": "code",
   "execution_count": 168,
   "id": "e86c04de",
   "metadata": {},
   "outputs": [],
   "source": [
    "import pandas as pd\n",
    "import numpy as np\n",
    "import seaborn as sns\n",
    "import sklearn\n",
    "import pickle\n",
    "import matplotlib.pyplot as plt\n",
    "import nltk"
   ]
  },
  {
   "cell_type": "markdown",
   "id": "923169ee",
   "metadata": {},
   "source": [
    "## Read Dataset"
   ]
  },
  {
   "cell_type": "code",
   "execution_count": 169,
   "id": "efbb7d7d",
   "metadata": {},
   "outputs": [
    {
     "name": "stdout",
     "output_type": "stream",
     "text": [
      "52\n"
     ]
    }
   ],
   "source": [
    "#1) Read the data\n",
    "data = pd.read_pickle('data/email_campaigns.pkl')\n",
    "print(len(data))"
   ]
  },
  {
   "cell_type": "code",
   "execution_count": 170,
   "id": "0310d03a",
   "metadata": {},
   "outputs": [],
   "source": [
    "subject, body, opened, clicked_meeting_link, responded = [], [], [], [], []\n",
    "\n",
    "for i in range(len(data)):    \n",
    "    for key, val in data[i].items():\n",
    "        for j in range(len(val)):\n",
    "            if type(val[j])==type({}):\n",
    "                subject.append(val[j][\"subject\"])\n",
    "                body.append(val[j][\"body\"])\n",
    "                opened.append(val[j][\"opened\"])\n",
    "                responded.append(val[j][\"responded\"])\n",
    "                try:\n",
    "                    clicked_meeting_link.append(val[j][\"meeting link clicked\"])\n",
    "                except:\n",
    "                    clicked_meeting_link.append(val[j][\"meeting_link_clicked\"])\n",
    "            else:\n",
    "                #print(data[i].keys())\n",
    "                continue"
   ]
  },
  {
   "cell_type": "code",
   "execution_count": 171,
   "id": "97bc5c8f",
   "metadata": {},
   "outputs": [
    {
     "name": "stdout",
     "output_type": "stream",
     "text": [
      "154 154 154 154 154\n"
     ]
    }
   ],
   "source": [
    "print(len(subject),len(body),len(opened),len(responded),len(clicked_meeting_link))"
   ]
  },
  {
   "cell_type": "code",
   "execution_count": 172,
   "id": "e3bb20d6",
   "metadata": {},
   "outputs": [],
   "source": [
    "df = pd.DataFrame({\"subject\":subject,\"body\":body,\"opened\":opened,\"clicked_meeting_link\":clicked_meeting_link,\"responded\":responded})"
   ]
  },
  {
   "cell_type": "code",
   "execution_count": 173,
   "id": "49f815ed",
   "metadata": {},
   "outputs": [
    {
     "data": {
      "text/html": [
       "<div>\n",
       "<style scoped>\n",
       "    .dataframe tbody tr th:only-of-type {\n",
       "        vertical-align: middle;\n",
       "    }\n",
       "\n",
       "    .dataframe tbody tr th {\n",
       "        vertical-align: top;\n",
       "    }\n",
       "\n",
       "    .dataframe thead th {\n",
       "        text-align: right;\n",
       "    }\n",
       "</style>\n",
       "<table border=\"1\" class=\"dataframe\">\n",
       "  <thead>\n",
       "    <tr style=\"text-align: right;\">\n",
       "      <th></th>\n",
       "      <th>subject</th>\n",
       "      <th>body</th>\n",
       "      <th>opened</th>\n",
       "      <th>clicked_meeting_link</th>\n",
       "      <th>responded</th>\n",
       "    </tr>\n",
       "  </thead>\n",
       "  <tbody>\n",
       "    <tr>\n",
       "      <th>0</th>\n",
       "      <td>🚀 Propel Your Marketing ROI with Advanced Anal...</td>\n",
       "      <td>Hey [Recipient's Name],\\n\\nReady to see your m...</td>\n",
       "      <td>False</td>\n",
       "      <td>False</td>\n",
       "      <td>False</td>\n",
       "    </tr>\n",
       "    <tr>\n",
       "      <th>1</th>\n",
       "      <td>Data is Your Superpower 📊 Unlock Insights with Us</td>\n",
       "      <td>Hi [Recipient's Name],\\n\\nI'm reaching out aga...</td>\n",
       "      <td>True</td>\n",
       "      <td>False</td>\n",
       "      <td>False</td>\n",
       "    </tr>\n",
       "    <tr>\n",
       "      <th>2</th>\n",
       "      <td>Turn Marketing Data Into Decisions 🧐 Let's Exp...</td>\n",
       "      <td>Greetings [Recipient's Name],\\n\\nWe haven't co...</td>\n",
       "      <td>False</td>\n",
       "      <td>False</td>\n",
       "      <td>False</td>\n",
       "    </tr>\n",
       "    <tr>\n",
       "      <th>3</th>\n",
       "      <td>Marketing Success is a Click Away - Let's Chat...</td>\n",
       "      <td>Hello [Recipient's Name],\\n\\nIt's clear that y...</td>\n",
       "      <td>True</td>\n",
       "      <td>True</td>\n",
       "      <td>False</td>\n",
       "    </tr>\n",
       "    <tr>\n",
       "      <th>4</th>\n",
       "      <td>🚀 Boost Your Brand's Visibility with Proven Ma...</td>\n",
       "      <td>Hi [Recipient's Name],\\n\\nIn the digital age, ...</td>\n",
       "      <td>False</td>\n",
       "      <td>False</td>\n",
       "      <td>False</td>\n",
       "    </tr>\n",
       "  </tbody>\n",
       "</table>\n",
       "</div>"
      ],
      "text/plain": [
       "                                             subject  \\\n",
       "0  🚀 Propel Your Marketing ROI with Advanced Anal...   \n",
       "1  Data is Your Superpower 📊 Unlock Insights with Us   \n",
       "2  Turn Marketing Data Into Decisions 🧐 Let's Exp...   \n",
       "3  Marketing Success is a Click Away - Let's Chat...   \n",
       "4  🚀 Boost Your Brand's Visibility with Proven Ma...   \n",
       "\n",
       "                                                body opened  \\\n",
       "0  Hey [Recipient's Name],\\n\\nReady to see your m...  False   \n",
       "1  Hi [Recipient's Name],\\n\\nI'm reaching out aga...   True   \n",
       "2  Greetings [Recipient's Name],\\n\\nWe haven't co...  False   \n",
       "3  Hello [Recipient's Name],\\n\\nIt's clear that y...   True   \n",
       "4  Hi [Recipient's Name],\\n\\nIn the digital age, ...  False   \n",
       "\n",
       "  clicked_meeting_link responded  \n",
       "0                False     False  \n",
       "1                False     False  \n",
       "2                False     False  \n",
       "3                 True     False  \n",
       "4                False     False  "
      ]
     },
     "execution_count": 173,
     "metadata": {},
     "output_type": "execute_result"
    }
   ],
   "source": [
    "df.head()"
   ]
  },
  {
   "cell_type": "code",
   "execution_count": 194,
   "id": "3ff9f7b5",
   "metadata": {},
   "outputs": [
    {
     "data": {
      "text/plain": [
       "(154, 5)"
      ]
     },
     "execution_count": 194,
     "metadata": {},
     "output_type": "execute_result"
    }
   ],
   "source": [
    "df.shape"
   ]
  },
  {
   "cell_type": "markdown",
   "id": "8b7829a4",
   "metadata": {},
   "source": [
    "## Preprocessing"
   ]
  },
  {
   "cell_type": "code",
   "execution_count": 174,
   "id": "d2277bc1",
   "metadata": {},
   "outputs": [
    {
     "name": "stderr",
     "output_type": "stream",
     "text": [
      "/tmp/ipykernel_17459/3761462469.py:4: FutureWarning: The default value of regex will change from True to False in a future version.\n",
      "  df[col] = df[col].astype(str).str.replace('\\W',' ')\n"
     ]
    }
   ],
   "source": [
    "columns = list(df.columns)\n",
    "#1) remove special characters, lower case\n",
    "for col in columns:\n",
    "    df[col] = df[col].astype(str).str.replace('\\W',' ')\n",
    "    df[col] = df[col].astype(str).str.lower()"
   ]
  },
  {
   "cell_type": "code",
   "execution_count": 175,
   "id": "2ddfa965",
   "metadata": {},
   "outputs": [
    {
     "data": {
      "text/html": [
       "<div>\n",
       "<style scoped>\n",
       "    .dataframe tbody tr th:only-of-type {\n",
       "        vertical-align: middle;\n",
       "    }\n",
       "\n",
       "    .dataframe tbody tr th {\n",
       "        vertical-align: top;\n",
       "    }\n",
       "\n",
       "    .dataframe thead th {\n",
       "        text-align: right;\n",
       "    }\n",
       "</style>\n",
       "<table border=\"1\" class=\"dataframe\">\n",
       "  <thead>\n",
       "    <tr style=\"text-align: right;\">\n",
       "      <th></th>\n",
       "      <th>subject</th>\n",
       "      <th>body</th>\n",
       "      <th>opened</th>\n",
       "      <th>clicked_meeting_link</th>\n",
       "      <th>responded</th>\n",
       "    </tr>\n",
       "  </thead>\n",
       "  <tbody>\n",
       "    <tr>\n",
       "      <th>0</th>\n",
       "      <td>propel your marketing roi with advanced anal...</td>\n",
       "      <td>hey  recipient s name    ready to see your mar...</td>\n",
       "      <td>false</td>\n",
       "      <td>false</td>\n",
       "      <td>false</td>\n",
       "    </tr>\n",
       "    <tr>\n",
       "      <th>1</th>\n",
       "      <td>data is your superpower   unlock insights with us</td>\n",
       "      <td>hi  recipient s name    i m reaching out again...</td>\n",
       "      <td>true</td>\n",
       "      <td>false</td>\n",
       "      <td>false</td>\n",
       "    </tr>\n",
       "    <tr>\n",
       "      <th>2</th>\n",
       "      <td>turn marketing data into decisions   let s exp...</td>\n",
       "      <td>greetings  recipient s name    we haven t conn...</td>\n",
       "      <td>false</td>\n",
       "      <td>false</td>\n",
       "      <td>false</td>\n",
       "    </tr>\n",
       "    <tr>\n",
       "      <th>3</th>\n",
       "      <td>marketing success is a click away   let s chat...</td>\n",
       "      <td>hello  recipient s name    it s clear that you...</td>\n",
       "      <td>true</td>\n",
       "      <td>true</td>\n",
       "      <td>false</td>\n",
       "    </tr>\n",
       "    <tr>\n",
       "      <th>4</th>\n",
       "      <td>boost your brand s visibility with proven ma...</td>\n",
       "      <td>hi  recipient s name    in the digital age  da...</td>\n",
       "      <td>false</td>\n",
       "      <td>false</td>\n",
       "      <td>false</td>\n",
       "    </tr>\n",
       "  </tbody>\n",
       "</table>\n",
       "</div>"
      ],
      "text/plain": [
       "                                             subject  \\\n",
       "0    propel your marketing roi with advanced anal...   \n",
       "1  data is your superpower   unlock insights with us   \n",
       "2  turn marketing data into decisions   let s exp...   \n",
       "3  marketing success is a click away   let s chat...   \n",
       "4    boost your brand s visibility with proven ma...   \n",
       "\n",
       "                                                body opened  \\\n",
       "0  hey  recipient s name    ready to see your mar...  false   \n",
       "1  hi  recipient s name    i m reaching out again...   true   \n",
       "2  greetings  recipient s name    we haven t conn...  false   \n",
       "3  hello  recipient s name    it s clear that you...   true   \n",
       "4  hi  recipient s name    in the digital age  da...  false   \n",
       "\n",
       "  clicked_meeting_link responded  \n",
       "0                false     false  \n",
       "1                false     false  \n",
       "2                false     false  \n",
       "3                 true     false  \n",
       "4                false     false  "
      ]
     },
     "execution_count": 175,
     "metadata": {},
     "output_type": "execute_result"
    }
   ],
   "source": [
    "df.head()"
   ]
  },
  {
   "cell_type": "code",
   "execution_count": 176,
   "id": "c4e8d335",
   "metadata": {},
   "outputs": [
    {
     "name": "stderr",
     "output_type": "stream",
     "text": [
      "[nltk_data] Downloading package stopwords to /home/akash/nltk_data...\n",
      "[nltk_data]   Package stopwords is already up-to-date!\n"
     ]
    }
   ],
   "source": [
    "import nltk\n",
    "nltk.download('stopwords')\n",
    "from nltk.corpus import stopwords\n",
    "stop = stopwords.words('english')\n",
    "\n",
    "for col in columns:\n",
    "    df[col].apply(lambda x: [item for item in x if item not in stop])"
   ]
  },
  {
   "cell_type": "code",
   "execution_count": 177,
   "id": "dd3c00a2",
   "metadata": {},
   "outputs": [],
   "source": [
    "# Perform Label Encoding for the target \n",
    "from sklearn.preprocessing import LabelEncoder\n",
    "l = LabelEncoder()\n",
    "df[\"opened\"] = l.fit_transform(df[\"opened\"]) \n",
    "df[\"clicked_meeting_link\"] = l.fit_transform(df[\"clicked_meeting_link\"])\n",
    "df[\"responded\"] = l.fit_transform(df[\"responded\"])"
   ]
  },
  {
   "cell_type": "code",
   "execution_count": 197,
   "id": "04fe6e66",
   "metadata": {},
   "outputs": [
    {
     "name": "stdout",
     "output_type": "stream",
     "text": [
      "(154, 5)\n"
     ]
    },
    {
     "data": {
      "text/html": [
       "<div>\n",
       "<style scoped>\n",
       "    .dataframe tbody tr th:only-of-type {\n",
       "        vertical-align: middle;\n",
       "    }\n",
       "\n",
       "    .dataframe tbody tr th {\n",
       "        vertical-align: top;\n",
       "    }\n",
       "\n",
       "    .dataframe thead th {\n",
       "        text-align: right;\n",
       "    }\n",
       "</style>\n",
       "<table border=\"1\" class=\"dataframe\">\n",
       "  <thead>\n",
       "    <tr style=\"text-align: right;\">\n",
       "      <th></th>\n",
       "      <th>subject</th>\n",
       "      <th>body</th>\n",
       "      <th>opened</th>\n",
       "      <th>clicked_meeting_link</th>\n",
       "      <th>responded</th>\n",
       "    </tr>\n",
       "  </thead>\n",
       "  <tbody>\n",
       "    <tr>\n",
       "      <th>0</th>\n",
       "      <td>propel your marketing roi with advanced anal...</td>\n",
       "      <td>hey  recipient s name    ready to see your mar...</td>\n",
       "      <td>2</td>\n",
       "      <td>2</td>\n",
       "      <td>1</td>\n",
       "    </tr>\n",
       "    <tr>\n",
       "      <th>1</th>\n",
       "      <td>data is your superpower   unlock insights with us</td>\n",
       "      <td>hi  recipient s name    i m reaching out again...</td>\n",
       "      <td>3</td>\n",
       "      <td>2</td>\n",
       "      <td>1</td>\n",
       "    </tr>\n",
       "    <tr>\n",
       "      <th>2</th>\n",
       "      <td>turn marketing data into decisions   let s exp...</td>\n",
       "      <td>greetings  recipient s name    we haven t conn...</td>\n",
       "      <td>2</td>\n",
       "      <td>2</td>\n",
       "      <td>1</td>\n",
       "    </tr>\n",
       "    <tr>\n",
       "      <th>3</th>\n",
       "      <td>marketing success is a click away   let s chat...</td>\n",
       "      <td>hello  recipient s name    it s clear that you...</td>\n",
       "      <td>3</td>\n",
       "      <td>3</td>\n",
       "      <td>1</td>\n",
       "    </tr>\n",
       "    <tr>\n",
       "      <th>4</th>\n",
       "      <td>boost your brand s visibility with proven ma...</td>\n",
       "      <td>hi  recipient s name    in the digital age  da...</td>\n",
       "      <td>2</td>\n",
       "      <td>2</td>\n",
       "      <td>1</td>\n",
       "    </tr>\n",
       "  </tbody>\n",
       "</table>\n",
       "</div>"
      ],
      "text/plain": [
       "                                             subject  \\\n",
       "0    propel your marketing roi with advanced anal...   \n",
       "1  data is your superpower   unlock insights with us   \n",
       "2  turn marketing data into decisions   let s exp...   \n",
       "3  marketing success is a click away   let s chat...   \n",
       "4    boost your brand s visibility with proven ma...   \n",
       "\n",
       "                                                body  opened  \\\n",
       "0  hey  recipient s name    ready to see your mar...       2   \n",
       "1  hi  recipient s name    i m reaching out again...       3   \n",
       "2  greetings  recipient s name    we haven t conn...       2   \n",
       "3  hello  recipient s name    it s clear that you...       3   \n",
       "4  hi  recipient s name    in the digital age  da...       2   \n",
       "\n",
       "   clicked_meeting_link  responded  \n",
       "0                     2          1  \n",
       "1                     2          1  \n",
       "2                     2          1  \n",
       "3                     3          1  \n",
       "4                     2          1  "
      ]
     },
     "execution_count": 197,
     "metadata": {},
     "output_type": "execute_result"
    }
   ],
   "source": [
    "print(df.shape)\n",
    "df.head()"
   ]
  },
  {
   "cell_type": "markdown",
   "id": "b1f3ca6c",
   "metadata": {},
   "source": [
    "## EDA of the dataset"
   ]
  },
  {
   "cell_type": "code",
   "execution_count": 198,
   "id": "e760edc2",
   "metadata": {},
   "outputs": [
    {
     "name": "stdout",
     "output_type": "stream",
     "text": [
      "The avg words after preprocessing in subject is : 7.35064935064935 and in body is : 60.38961038961039\n"
     ]
    }
   ],
   "source": [
    "#1) Word count\n",
    "avg_words_subject = sum(df[\"subject\"].str.split().str.len())/len(df[\"subject\"])\n",
    "avg_words_body = sum(df[\"body\"].str.split().str.len())/len(df[\"body\"])\n",
    "print(\"The avg words after preprocessing in subject is : {} and in body is : {}\".format(avg_words_subject, avg_words_body))"
   ]
  },
  {
   "cell_type": "code",
   "execution_count": 199,
   "id": "147b005f",
   "metadata": {},
   "outputs": [
    {
     "data": {
      "text/plain": [
       "<AxesSubplot: >"
      ]
     },
     "execution_count": 199,
     "metadata": {},
     "output_type": "execute_result"
    },
    {
     "data": {
      "image/png": "[encoded data removed]",
      "text/plain": [
       "<Figure size 432x288 with 1 Axes>"
      ]
     },
     "metadata": {},
     "output_type": "display_data"
    }
   ],
   "source": [
    "#2) Histogram based on the length of words\n",
    "df[\"subject\"].str.len().hist()"
   ]
  },
  {
   "cell_type": "code",
   "execution_count": 200,
   "id": "d9082d3a",
   "metadata": {},
   "outputs": [
    {
     "data": {
      "text/plain": [
       "<AxesSubplot: >"
      ]
     },
     "execution_count": 200,
     "metadata": {},
     "output_type": "execute_result"
    },
    {
     "data": {
      "image/png": "[encoded data removed]",
      "text/plain": [
       "<Figure size 432x288 with 1 Axes>"
      ]
     },
     "metadata": {},
     "output_type": "display_data"
    }
   ],
   "source": [
    "#3) Plot the number of words per body\n",
    "df[\"body\"].str.split().map(lambda x:len(x)).hist()"
   ]
  },
  {
   "cell_type": "code",
   "execution_count": 201,
   "id": "d88e6e41",
   "metadata": {},
   "outputs": [
    {
     "data": {
      "text/plain": [
       "<AxesSubplot: >"
      ]
     },
     "execution_count": 201,
     "metadata": {},
     "output_type": "execute_result"
    },
    {
     "data": {
      "image/png": "[encoded data removed]",
      "text/plain": [
       "<Figure size 432x288 with 1 Axes>"
      ]
     },
     "metadata": {},
     "output_type": "display_data"
    }
   ],
   "source": [
    "# Show the label counts for opened and not opened \n",
    "plt.style.use(\"ggplot\")\n",
    "fig, ax = plt.subplots()\n",
    "df['opened'].value_counts().plot(ax=ax, kind='bar')"
   ]
  },
  {
   "cell_type": "markdown",
   "id": "70f14745",
   "metadata": {},
   "source": [
    "## Transform the data "
   ]
  },
  {
   "cell_type": "code",
   "execution_count": 202,
   "id": "a5bc4b93",
   "metadata": {},
   "outputs": [
    {
     "name": "stdout",
     "output_type": "stream",
     "text": [
      "The total number of words are : 10432\n"
     ]
    }
   ],
   "source": [
    "# Build the word_to_idx\n",
    "subject_words = ' '.join([i for i in df['subject']]).split() \n",
    "body_words = ' '.join([i for i in df['body']]).split() \n",
    "total_words = subject_words+body_words\n",
    "print(\"The total number of words are :\",len(total_words))"
   ]
  },
  {
   "cell_type": "code",
   "execution_count": 203,
   "id": "355779ea",
   "metadata": {},
   "outputs": [],
   "source": [
    "corpus = list(set(total_words))\n",
    "word_to_idx[\"unknown\"]=0\n",
    "idx_to_word[0]=\"unkwown\"\n",
    "\n",
    "for idx, word in enumerate(corpus):\n",
    "    word_to_idx[word]=idx\n",
    "    idx_to_word[idx]=word\n",
    "    \n",
    "word_to_idx[\"unknown\"] = len(word_to_idx)\n",
    "idx_to_word[len(word_to_idx)] = \"unknown\""
   ]
  },
  {
   "cell_type": "code",
   "execution_count": 205,
   "id": "8b0e2c35",
   "metadata": {},
   "outputs": [],
   "source": [
    "# Use subject and Body as Input\n",
    "\n",
    "new_subject, new_body, target = [], [], []\n",
    "max_length = 75\n",
    "\n",
    "for index, row in df.iterrows():\n",
    "    row_input = [word_to_idx[word] for word in row[\"subject\"].split()] + [word_to_idx[word] for word in row[\"body\"].split()]\n",
    "    if len(row_input)>max_length:\n",
    "        new_subject.append(row_input[:max_length])\n",
    "    else:\n",
    "        new_subject.append(row_input+[0]*(max_length-len(row_input)))\n",
    "    target.append(row[\"opened\"])"
   ]
  },
  {
   "cell_type": "code",
   "execution_count": 206,
   "id": "0d01f12e",
   "metadata": {},
   "outputs": [
    {
     "name": "stdout",
     "output_type": "stream",
     "text": [
      "[[758, 790, 250, 203, 599, 959, 396, 316, 521, 767, 345, 845, 70, 581, 790, 250, 293, 436, 599, 797, 217, 1081, 250, 396, 538, 790, 5, 1009, 371, 10, 585, 361, 888, 70, 674, 1120, 771, 375, 1038, 203, 624, 112, 166, 26, 978, 790, 888, 70, 298, 95, 475, 220, 767, 551, 791, 299, 780, 598, 790, 345, 0, 0, 0, 0, 0, 0, 0, 0, 0, 0, 0, 0, 0, 0, 0], [888, 1132, 790, 877, 957, 1122, 599, 911, 625, 521, 767, 345, 1043, 308, 11, 1108, 775, 72, 1043, 208, 797, 134, 109, 749, 800, 592, 576, 10, 184, 599, 790, 46, 903, 1089, 797, 250, 396, 1009, 1063, 790, 888, 1073, 189, 1084, 937, 1009, 339, 790, 250, 767, 309, 1009, 890, 892, 26, 371, 380, 877, 1034, 963, 219, 346, 334, 895, 299, 780, 588, 341, 70, 439, 60, 790, 345, 0, 0], [628, 250, 888, 1073, 910, 220, 767, 391, 417, 37, 521, 767, 345, 890, 147, 463, 653, 1071, 375, 1043, 308, 379, 790, 5, 1132, 433, 1108, 346, 99, 1122, 797, 119, 250, 396, 1009, 714, 556, 10, 761, 361, 790, 888, 75, 864, 405, 949, 375, 326, 403, 503, 344, 890, 867, 963, 966, 1088, 1073, 790, 888, 767, 475, 1043, 308, 738, 70, 1157, 26, 903, 534, 1121, 1073, 621, 598, 790, 345], [250, 309, 1132, 963, 1098, 362, 220, 767, 1049, 396, 562, 521, 767, 345, 480, 767, 750, 937, 26, 415, 808, 185, 790, 5, 309, 499, 220, 767, 570, 220, 715, 888, 1122, 80, 903, 10, 1044, 728, 10, 269, 1081, 26, 422, 819, 599, 797, 575, 1146, 375, 1117, 135, 1009, 890, 896, 26, 10, 95, 1046, 1098, 136, 405, 963, 1054, 299, 780, 890, 415, 136, 70, 628, 790, 888, 1073, 790, 565], [1172, 790, 168, 767, 472, 599, 872, 250, 396, 1084, 625, 521, 767, 345, 903, 10, 1008, 1159, 888, 1132, 585, 542, 405, 790, 250, 763, 166, 26, 978, 790, 888, 70, 298, 95, 475, 797, 250, 396, 538, 979, 790, 571, 1009, 892, 26, 176, 790, 352, 1147, 790, 1116, 375, 1080, 358, 790, 203, 845, 70, 1126, 790, 250, 70, 120, 1107, 220, 767, 867, 963, 624, 430, 1148, 299, 780, 598, 790]]\n"
     ]
    }
   ],
   "source": [
    "print(new_subject[:5])"
   ]
  },
  {
   "cell_type": "code",
   "execution_count": 207,
   "id": "9ee48aa0",
   "metadata": {},
   "outputs": [],
   "source": [
    "# Concatenate subject and body\n",
    "input_data = np.array(new_subject)#.reshape(-1,1)\n",
    "output_data = np.array(target)#.reshape(-1,1)"
   ]
  },
  {
   "cell_type": "code",
   "execution_count": 208,
   "id": "6f01f0ba",
   "metadata": {},
   "outputs": [
    {
     "name": "stdout",
     "output_type": "stream",
     "text": [
      "(154, 75)\n",
      "(154,)\n"
     ]
    }
   ],
   "source": [
    "print(input_data.shape)\n",
    "print(output_data.shape)"
   ]
  },
  {
   "cell_type": "markdown",
   "id": "6e481c05",
   "metadata": {},
   "source": [
    "## Model Building"
   ]
  },
  {
   "cell_type": "markdown",
   "id": "6e88609a",
   "metadata": {},
   "source": [
    "### ML Model"
   ]
  },
  {
   "cell_type": "code",
   "execution_count": 209,
   "id": "5f1c5211",
   "metadata": {},
   "outputs": [],
   "source": [
    "from sklearn.model_selection import train_test_split\n",
    "X_train, X_test, Y_train, Y_test = train_test_split(input_data, output_data, test_size=0.3, random_state=2003)"
   ]
  },
  {
   "cell_type": "code",
   "execution_count": 213,
   "id": "0400f6e9",
   "metadata": {},
   "outputs": [
    {
     "name": "stderr",
     "output_type": "stream",
     "text": [
      "/home/akash/.local/lib/python3.10/site-packages/sklearn/svm/_base.py:1244: ConvergenceWarning: Liblinear failed to converge, increase the number of iterations.\n",
      "  warnings.warn(\n"
     ]
    }
   ],
   "source": [
    "from sklearn.svm import LinearSVC\n",
    "clf = LinearSVC(random_state=0).fit(X_train, Y_train)"
   ]
  },
  {
   "cell_type": "code",
   "execution_count": 214,
   "id": "87d5e937",
   "metadata": {},
   "outputs": [],
   "source": [
    "y_pred = clf.predict(X_test)"
   ]
  },
  {
   "cell_type": "code",
   "execution_count": 215,
   "id": "b2c28891",
   "metadata": {},
   "outputs": [
    {
     "data": {
      "text/plain": [
       "0.6170212765957447"
      ]
     },
     "execution_count": 215,
     "metadata": {},
     "output_type": "execute_result"
    }
   ],
   "source": [
    "clf.score(X_test,Y_test)"
   ]
  },
  {
   "cell_type": "raw",
   "id": "0bc6e18c",
   "metadata": {},
   "source": [
    "We can see that the SVM model does not perform well"
   ]
  },
  {
   "cell_type": "markdown",
   "id": "c340c157",
   "metadata": {},
   "source": [
    "### DL Model"
   ]
  },
  {
   "cell_type": "markdown",
   "id": "e0b0df0d",
   "metadata": {},
   "source": [
    "## Accuracy or Prediction"
   ]
  },
  {
   "cell_type": "code",
   "execution_count": null,
   "id": "779c91c5",
   "metadata": {},
   "outputs": [],
   "source": [
    "df.head(10)"
   ]
  }
 ],
 "metadata": {
  "kernelspec": {
   "display_name": "Python 3 (ipykernel)",
   "language": "python",
   "name": "python3"
  },
  "language_info": {
   "codemirror_mode": {
    "name": "ipython",
    "version": 3
   },
   "file_extension": ".py",
   "mimetype": "text/x-python",
   "name": "python",
   "nbconvert_exporter": "python",
   "pygments_lexer": "ipython3",
   "version": "3.10.12"
  }
 },
 "nbformat": 4,
 "nbformat_minor": 5
}

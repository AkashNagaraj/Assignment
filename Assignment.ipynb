{
 "cells": [
  {
   "cell_type": "markdown",
   "id": "07170e2f",
   "metadata": {},
   "source": [
    "## Import Libraries"
   ]
  },
  {
   "cell_type": "code",
   "execution_count": 1,
   "id": "e86c04de",
   "metadata": {},
   "outputs": [],
   "source": [
    "import pandas as pd\n",
    "import numpy as np\n",
    "import seaborn as sns\n",
    "import sklearn\n",
    "import sys\n",
    "import pickle\n",
    "import matplotlib.pyplot as plt\n",
    "import nltk"
   ]
  },
  {
   "cell_type": "markdown",
   "id": "923169ee",
   "metadata": {},
   "source": [
    "## Read Dataset"
   ]
  },
  {
   "cell_type": "code",
   "execution_count": 2,
   "id": "efbb7d7d",
   "metadata": {},
   "outputs": [
    {
     "name": "stdout",
     "output_type": "stream",
     "text": [
      "52\n"
     ]
    }
   ],
   "source": [
    "#1) Read the data\n",
    "data = pd.read_pickle('data/email_campaigns.pkl')\n",
    "print(len(data))"
   ]
  },
  {
   "cell_type": "code",
   "execution_count": 3,
   "id": "0310d03a",
   "metadata": {},
   "outputs": [],
   "source": [
    "subject, body, opened, clicked_meeting_link, responded = [], [], [], [], []\n",
    "\n",
    "for i in range(len(data)):    \n",
    "    for key, val in data[i].items():\n",
    "        for j in range(len(val)):\n",
    "            if type(val[j])==type({}):\n",
    "                subject.append(val[j][\"subject\"])\n",
    "                body.append(val[j][\"body\"])\n",
    "                opened.append(val[j][\"opened\"])\n",
    "                responded.append(val[j][\"responded\"])\n",
    "                try:\n",
    "                    clicked_meeting_link.append(val[j][\"meeting link clicked\"])\n",
    "                except:\n",
    "                    clicked_meeting_link.append(val[j][\"meeting_link_clicked\"])\n",
    "            else:\n",
    "                #print(data[i].keys())\n",
    "                continue"
   ]
  },
  {
   "cell_type": "code",
   "execution_count": 4,
   "id": "97bc5c8f",
   "metadata": {},
   "outputs": [
    {
     "name": "stdout",
     "output_type": "stream",
     "text": [
      "154 154 154 154 154\n"
     ]
    }
   ],
   "source": [
    "print(len(subject),len(body),len(opened),len(responded),len(clicked_meeting_link))"
   ]
  },
  {
   "cell_type": "code",
   "execution_count": 5,
   "id": "e3bb20d6",
   "metadata": {},
   "outputs": [],
   "source": [
    "df = pd.DataFrame({\"subject\":subject,\"body\":body,\"opened\":opened,\"clicked_meeting_link\":clicked_meeting_link,\"responded\":responded})"
   ]
  },
  {
   "cell_type": "code",
   "execution_count": 6,
   "id": "49f815ed",
   "metadata": {},
   "outputs": [
    {
     "data": {
      "text/html": [
       "<div>\n",
       "<style scoped>\n",
       "    .dataframe tbody tr th:only-of-type {\n",
       "        vertical-align: middle;\n",
       "    }\n",
       "\n",
       "    .dataframe tbody tr th {\n",
       "        vertical-align: top;\n",
       "    }\n",
       "\n",
       "    .dataframe thead th {\n",
       "        text-align: right;\n",
       "    }\n",
       "</style>\n",
       "<table border=\"1\" class=\"dataframe\">\n",
       "  <thead>\n",
       "    <tr style=\"text-align: right;\">\n",
       "      <th></th>\n",
       "      <th>subject</th>\n",
       "      <th>body</th>\n",
       "      <th>opened</th>\n",
       "      <th>clicked_meeting_link</th>\n",
       "      <th>responded</th>\n",
       "    </tr>\n",
       "  </thead>\n",
       "  <tbody>\n",
       "    <tr>\n",
       "      <th>0</th>\n",
       "      <td>🚀 Propel Your Marketing ROI with Advanced Anal...</td>\n",
       "      <td>Hey [Recipient's Name],\\n\\nReady to see your m...</td>\n",
       "      <td>False</td>\n",
       "      <td>False</td>\n",
       "      <td>False</td>\n",
       "    </tr>\n",
       "    <tr>\n",
       "      <th>1</th>\n",
       "      <td>Data is Your Superpower 📊 Unlock Insights with Us</td>\n",
       "      <td>Hi [Recipient's Name],\\n\\nI'm reaching out aga...</td>\n",
       "      <td>True</td>\n",
       "      <td>False</td>\n",
       "      <td>False</td>\n",
       "    </tr>\n",
       "    <tr>\n",
       "      <th>2</th>\n",
       "      <td>Turn Marketing Data Into Decisions 🧐 Let's Exp...</td>\n",
       "      <td>Greetings [Recipient's Name],\\n\\nWe haven't co...</td>\n",
       "      <td>False</td>\n",
       "      <td>False</td>\n",
       "      <td>False</td>\n",
       "    </tr>\n",
       "    <tr>\n",
       "      <th>3</th>\n",
       "      <td>Marketing Success is a Click Away - Let's Chat...</td>\n",
       "      <td>Hello [Recipient's Name],\\n\\nIt's clear that y...</td>\n",
       "      <td>True</td>\n",
       "      <td>True</td>\n",
       "      <td>False</td>\n",
       "    </tr>\n",
       "    <tr>\n",
       "      <th>4</th>\n",
       "      <td>🚀 Boost Your Brand's Visibility with Proven Ma...</td>\n",
       "      <td>Hi [Recipient's Name],\\n\\nIn the digital age, ...</td>\n",
       "      <td>False</td>\n",
       "      <td>False</td>\n",
       "      <td>False</td>\n",
       "    </tr>\n",
       "  </tbody>\n",
       "</table>\n",
       "</div>"
      ],
      "text/plain": [
       "                                             subject  \\\n",
       "0  🚀 Propel Your Marketing ROI with Advanced Anal...   \n",
       "1  Data is Your Superpower 📊 Unlock Insights with Us   \n",
       "2  Turn Marketing Data Into Decisions 🧐 Let's Exp...   \n",
       "3  Marketing Success is a Click Away - Let's Chat...   \n",
       "4  🚀 Boost Your Brand's Visibility with Proven Ma...   \n",
       "\n",
       "                                                body opened  \\\n",
       "0  Hey [Recipient's Name],\\n\\nReady to see your m...  False   \n",
       "1  Hi [Recipient's Name],\\n\\nI'm reaching out aga...   True   \n",
       "2  Greetings [Recipient's Name],\\n\\nWe haven't co...  False   \n",
       "3  Hello [Recipient's Name],\\n\\nIt's clear that y...   True   \n",
       "4  Hi [Recipient's Name],\\n\\nIn the digital age, ...  False   \n",
       "\n",
       "  clicked_meeting_link responded  \n",
       "0                False     False  \n",
       "1                False     False  \n",
       "2                False     False  \n",
       "3                 True     False  \n",
       "4                False     False  "
      ]
     },
     "execution_count": 6,
     "metadata": {},
     "output_type": "execute_result"
    }
   ],
   "source": [
    "df.head()"
   ]
  },
  {
   "cell_type": "code",
   "execution_count": 7,
   "id": "3ff9f7b5",
   "metadata": {},
   "outputs": [
    {
     "data": {
      "text/plain": [
       "(154, 5)"
      ]
     },
     "execution_count": 7,
     "metadata": {},
     "output_type": "execute_result"
    }
   ],
   "source": [
    "df.shape"
   ]
  },
  {
   "cell_type": "markdown",
   "id": "8b7829a4",
   "metadata": {},
   "source": [
    "## Preprocessing"
   ]
  },
  {
   "cell_type": "code",
   "execution_count": 8,
   "id": "d2277bc1",
   "metadata": {},
   "outputs": [
    {
     "name": "stderr",
     "output_type": "stream",
     "text": [
      "/tmp/ipykernel_8463/3761462469.py:4: FutureWarning: The default value of regex will change from True to False in a future version.\n",
      "  df[col] = df[col].astype(str).str.replace('\\W',' ')\n"
     ]
    }
   ],
   "source": [
    "columns = list(df.columns)\n",
    "#1) remove special characters, lower case\n",
    "for col in columns:\n",
    "    df[col] = df[col].astype(str).str.replace('\\W',' ')\n",
    "    df[col] = df[col].astype(str).str.lower()"
   ]
  },
  {
   "cell_type": "code",
   "execution_count": 9,
   "id": "2ddfa965",
   "metadata": {},
   "outputs": [
    {
     "data": {
      "text/html": [
       "<div>\n",
       "<style scoped>\n",
       "    .dataframe tbody tr th:only-of-type {\n",
       "        vertical-align: middle;\n",
       "    }\n",
       "\n",
       "    .dataframe tbody tr th {\n",
       "        vertical-align: top;\n",
       "    }\n",
       "\n",
       "    .dataframe thead th {\n",
       "        text-align: right;\n",
       "    }\n",
       "</style>\n",
       "<table border=\"1\" class=\"dataframe\">\n",
       "  <thead>\n",
       "    <tr style=\"text-align: right;\">\n",
       "      <th></th>\n",
       "      <th>subject</th>\n",
       "      <th>body</th>\n",
       "      <th>opened</th>\n",
       "      <th>clicked_meeting_link</th>\n",
       "      <th>responded</th>\n",
       "    </tr>\n",
       "  </thead>\n",
       "  <tbody>\n",
       "    <tr>\n",
       "      <th>0</th>\n",
       "      <td>propel your marketing roi with advanced anal...</td>\n",
       "      <td>hey  recipient s name    ready to see your mar...</td>\n",
       "      <td>false</td>\n",
       "      <td>false</td>\n",
       "      <td>false</td>\n",
       "    </tr>\n",
       "    <tr>\n",
       "      <th>1</th>\n",
       "      <td>data is your superpower   unlock insights with us</td>\n",
       "      <td>hi  recipient s name    i m reaching out again...</td>\n",
       "      <td>true</td>\n",
       "      <td>false</td>\n",
       "      <td>false</td>\n",
       "    </tr>\n",
       "    <tr>\n",
       "      <th>2</th>\n",
       "      <td>turn marketing data into decisions   let s exp...</td>\n",
       "      <td>greetings  recipient s name    we haven t conn...</td>\n",
       "      <td>false</td>\n",
       "      <td>false</td>\n",
       "      <td>false</td>\n",
       "    </tr>\n",
       "    <tr>\n",
       "      <th>3</th>\n",
       "      <td>marketing success is a click away   let s chat...</td>\n",
       "      <td>hello  recipient s name    it s clear that you...</td>\n",
       "      <td>true</td>\n",
       "      <td>true</td>\n",
       "      <td>false</td>\n",
       "    </tr>\n",
       "    <tr>\n",
       "      <th>4</th>\n",
       "      <td>boost your brand s visibility with proven ma...</td>\n",
       "      <td>hi  recipient s name    in the digital age  da...</td>\n",
       "      <td>false</td>\n",
       "      <td>false</td>\n",
       "      <td>false</td>\n",
       "    </tr>\n",
       "  </tbody>\n",
       "</table>\n",
       "</div>"
      ],
      "text/plain": [
       "                                             subject  \\\n",
       "0    propel your marketing roi with advanced anal...   \n",
       "1  data is your superpower   unlock insights with us   \n",
       "2  turn marketing data into decisions   let s exp...   \n",
       "3  marketing success is a click away   let s chat...   \n",
       "4    boost your brand s visibility with proven ma...   \n",
       "\n",
       "                                                body opened  \\\n",
       "0  hey  recipient s name    ready to see your mar...  false   \n",
       "1  hi  recipient s name    i m reaching out again...   true   \n",
       "2  greetings  recipient s name    we haven t conn...  false   \n",
       "3  hello  recipient s name    it s clear that you...   true   \n",
       "4  hi  recipient s name    in the digital age  da...  false   \n",
       "\n",
       "  clicked_meeting_link responded  \n",
       "0                false     false  \n",
       "1                false     false  \n",
       "2                false     false  \n",
       "3                 true     false  \n",
       "4                false     false  "
      ]
     },
     "execution_count": 9,
     "metadata": {},
     "output_type": "execute_result"
    }
   ],
   "source": [
    "df.head()"
   ]
  },
  {
   "cell_type": "code",
   "execution_count": 10,
   "id": "c4e8d335",
   "metadata": {},
   "outputs": [
    {
     "name": "stderr",
     "output_type": "stream",
     "text": [
      "[nltk_data] Downloading package stopwords to /home/akash/nltk_data...\n",
      "[nltk_data]   Package stopwords is already up-to-date!\n"
     ]
    }
   ],
   "source": [
    "import nltk\n",
    "nltk.download('stopwords')\n",
    "from nltk.corpus import stopwords\n",
    "stop = stopwords.words('english')\n",
    "\n",
    "for col in columns:\n",
    "    df[col].apply(lambda x: [item for item in x if item not in stop])"
   ]
  },
  {
   "cell_type": "code",
   "execution_count": 11,
   "id": "dd3c00a2",
   "metadata": {},
   "outputs": [],
   "source": [
    "# Perform Label Encoding for the target \n",
    "from sklearn.preprocessing import LabelEncoder\n",
    "l = LabelEncoder()\n",
    "df[\"opened\"] = l.fit_transform(df[\"opened\"]) \n",
    "df[\"clicked_meeting_link\"] = l.fit_transform(df[\"clicked_meeting_link\"])\n",
    "df[\"responded\"] = l.fit_transform(df[\"responded\"])"
   ]
  },
  {
   "cell_type": "code",
   "execution_count": 12,
   "id": "04fe6e66",
   "metadata": {},
   "outputs": [
    {
     "name": "stdout",
     "output_type": "stream",
     "text": [
      "(154, 5)\n"
     ]
    },
    {
     "data": {
      "text/html": [
       "<div>\n",
       "<style scoped>\n",
       "    .dataframe tbody tr th:only-of-type {\n",
       "        vertical-align: middle;\n",
       "    }\n",
       "\n",
       "    .dataframe tbody tr th {\n",
       "        vertical-align: top;\n",
       "    }\n",
       "\n",
       "    .dataframe thead th {\n",
       "        text-align: right;\n",
       "    }\n",
       "</style>\n",
       "<table border=\"1\" class=\"dataframe\">\n",
       "  <thead>\n",
       "    <tr style=\"text-align: right;\">\n",
       "      <th></th>\n",
       "      <th>subject</th>\n",
       "      <th>body</th>\n",
       "      <th>opened</th>\n",
       "      <th>clicked_meeting_link</th>\n",
       "      <th>responded</th>\n",
       "    </tr>\n",
       "  </thead>\n",
       "  <tbody>\n",
       "    <tr>\n",
       "      <th>0</th>\n",
       "      <td>propel your marketing roi with advanced anal...</td>\n",
       "      <td>hey  recipient s name    ready to see your mar...</td>\n",
       "      <td>2</td>\n",
       "      <td>2</td>\n",
       "      <td>1</td>\n",
       "    </tr>\n",
       "    <tr>\n",
       "      <th>1</th>\n",
       "      <td>data is your superpower   unlock insights with us</td>\n",
       "      <td>hi  recipient s name    i m reaching out again...</td>\n",
       "      <td>3</td>\n",
       "      <td>2</td>\n",
       "      <td>1</td>\n",
       "    </tr>\n",
       "    <tr>\n",
       "      <th>2</th>\n",
       "      <td>turn marketing data into decisions   let s exp...</td>\n",
       "      <td>greetings  recipient s name    we haven t conn...</td>\n",
       "      <td>2</td>\n",
       "      <td>2</td>\n",
       "      <td>1</td>\n",
       "    </tr>\n",
       "    <tr>\n",
       "      <th>3</th>\n",
       "      <td>marketing success is a click away   let s chat...</td>\n",
       "      <td>hello  recipient s name    it s clear that you...</td>\n",
       "      <td>3</td>\n",
       "      <td>3</td>\n",
       "      <td>1</td>\n",
       "    </tr>\n",
       "    <tr>\n",
       "      <th>4</th>\n",
       "      <td>boost your brand s visibility with proven ma...</td>\n",
       "      <td>hi  recipient s name    in the digital age  da...</td>\n",
       "      <td>2</td>\n",
       "      <td>2</td>\n",
       "      <td>1</td>\n",
       "    </tr>\n",
       "  </tbody>\n",
       "</table>\n",
       "</div>"
      ],
      "text/plain": [
       "                                             subject  \\\n",
       "0    propel your marketing roi with advanced anal...   \n",
       "1  data is your superpower   unlock insights with us   \n",
       "2  turn marketing data into decisions   let s exp...   \n",
       "3  marketing success is a click away   let s chat...   \n",
       "4    boost your brand s visibility with proven ma...   \n",
       "\n",
       "                                                body  opened  \\\n",
       "0  hey  recipient s name    ready to see your mar...       2   \n",
       "1  hi  recipient s name    i m reaching out again...       3   \n",
       "2  greetings  recipient s name    we haven t conn...       2   \n",
       "3  hello  recipient s name    it s clear that you...       3   \n",
       "4  hi  recipient s name    in the digital age  da...       2   \n",
       "\n",
       "   clicked_meeting_link  responded  \n",
       "0                     2          1  \n",
       "1                     2          1  \n",
       "2                     2          1  \n",
       "3                     3          1  \n",
       "4                     2          1  "
      ]
     },
     "execution_count": 12,
     "metadata": {},
     "output_type": "execute_result"
    }
   ],
   "source": [
    "print(df.shape)\n",
    "df.head()"
   ]
  },
  {
   "cell_type": "markdown",
   "id": "b1f3ca6c",
   "metadata": {},
   "source": [
    "## EDA of the dataset"
   ]
  },
  {
   "cell_type": "code",
   "execution_count": 13,
   "id": "e760edc2",
   "metadata": {},
   "outputs": [
    {
     "name": "stdout",
     "output_type": "stream",
     "text": [
      "The avg words after preprocessing in subject is : 7.35064935064935 and in body is : 60.38961038961039\n"
     ]
    }
   ],
   "source": [
    "#1) Word count\n",
    "avg_words_subject = sum(df[\"subject\"].str.split().str.len())/len(df[\"subject\"])\n",
    "avg_words_body = sum(df[\"body\"].str.split().str.len())/len(df[\"body\"])\n",
    "print(\"The avg words after preprocessing in subject is : {} and in body is : {}\".format(avg_words_subject, avg_words_body))"
   ]
  },
  {
   "cell_type": "code",
   "execution_count": 14,
   "id": "147b005f",
   "metadata": {},
   "outputs": [
    {
     "data": {
      "text/plain": [
       "<AxesSubplot: >"
      ]
     },
     "execution_count": 14,
     "metadata": {},
     "output_type": "execute_result"
    },
    {
     "data": {
      "image/png": "[encoded data removed]",
      "text/plain": [
       "<Figure size 432x288 with 1 Axes>"
      ]
     },
     "metadata": {
      "needs_background": "light"
     },
     "output_type": "display_data"
    }
   ],
   "source": [
    "#2) Histogram based on the length of words\n",
    "df[\"subject\"].str.len().hist()"
   ]
  },
  {
   "cell_type": "code",
   "execution_count": 15,
   "id": "d9082d3a",
   "metadata": {},
   "outputs": [
    {
     "data": {
      "text/plain": [
       "<AxesSubplot: >"
      ]
     },
     "execution_count": 15,
     "metadata": {},
     "output_type": "execute_result"
    },
    {
     "data": {
      "image/png": "[encoded data removed]",
      "text/plain": [
       "<Figure size 432x288 with 1 Axes>"
      ]
     },
     "metadata": {
      "needs_background": "light"
     },
     "output_type": "display_data"
    }
   ],
   "source": [
    "#3) Plot the number of words per body\n",
    "df[\"body\"].str.split().map(lambda x:len(x)).hist()"
   ]
  },
  {
   "cell_type": "code",
   "execution_count": 16,
   "id": "d88e6e41",
   "metadata": {},
   "outputs": [
    {
     "data": {
      "text/plain": [
       "<AxesSubplot: >"
      ]
     },
     "execution_count": 16,
     "metadata": {},
     "output_type": "execute_result"
    },
    {
     "data": {
      "image/png": "[encoded data removed]",
      "text/plain": [
       "<Figure size 432x288 with 1 Axes>"
      ]
     },
     "metadata": {},
     "output_type": "display_data"
    }
   ],
   "source": [
    "# Show the label counts for opened and not opened \n",
    "plt.style.use(\"ggplot\")\n",
    "fig, ax = plt.subplots()\n",
    "df['opened'].value_counts().plot(ax=ax, kind='bar')"
   ]
  },
  {
   "cell_type": "markdown",
   "id": "70f14745",
   "metadata": {},
   "source": [
    "## Transform the data "
   ]
  },
  {
   "cell_type": "code",
   "execution_count": 17,
   "id": "a5bc4b93",
   "metadata": {},
   "outputs": [
    {
     "name": "stdout",
     "output_type": "stream",
     "text": [
      "The total number of words are : 10432\n"
     ]
    }
   ],
   "source": [
    "# Build the word_to_idx\n",
    "subject_words = ' '.join([i for i in df['subject']]).split() \n",
    "body_words = ' '.join([i for i in df['body']]).split() \n",
    "total_words = subject_words+body_words\n",
    "print(\"The total number of words are :\",len(total_words))"
   ]
  },
  {
   "cell_type": "code",
   "execution_count": 18,
   "id": "355779ea",
   "metadata": {},
   "outputs": [],
   "source": [
    "corpus = list(set(total_words))\n",
    "word_to_idx, idx_to_word = {},{}\n",
    "word_to_idx[\"unknown\"]=0\n",
    "idx_to_word[0]=\"unkwown\"\n",
    "\n",
    "for idx, word in enumerate(corpus):\n",
    "    word_to_idx[word]=idx\n",
    "    idx_to_word[idx]=word\n",
    "    \n",
    "word_to_idx[\"unknown\"] = len(word_to_idx)\n",
    "idx_to_word[len(word_to_idx)] = \"unknown\""
   ]
  },
  {
   "cell_type": "code",
   "execution_count": 19,
   "id": "8b0e2c35",
   "metadata": {},
   "outputs": [],
   "source": [
    "# Use subject and Body as Input\n",
    "\n",
    "new_subject, new_body, target = [], [], []\n",
    "max_length = 80\n",
    "\n",
    "for index, row in df.iterrows():\n",
    "    row_input = [word_to_idx[word] for word in row[\"subject\"].split()] + [word_to_idx[word] for word in row[\"body\"].split()]\n",
    "    if len(row_input)>max_length:\n",
    "        new_subject.append(row_input[:max_length])\n",
    "    else:\n",
    "        new_subject.append(row_input+[0]*(max_length-len(row_input)))\n",
    "    target.append(row[\"opened\"])"
   ]
  },
  {
   "cell_type": "code",
   "execution_count": 20,
   "id": "0d01f12e",
   "metadata": {},
   "outputs": [
    {
     "name": "stdout",
     "output_type": "stream",
     "text": [
      "[[568, 205, 1061, 781, 493, 1109, 191, 749, 730, 429, 60, 817, 1160, 103, 205, 1061, 874, 388, 493, 956, 977, 1165, 1061, 191, 152, 205, 243, 105, 1082, 525, 710, 1141, 328, 1160, 0, 820, 119, 22, 1043, 781, 994, 1091, 53, 906, 432, 205, 328, 1160, 449, 1133, 692, 645, 429, 622, 99, 683, 329, 270, 205, 60, 0, 0, 0, 0, 0, 0, 0, 0, 0, 0, 0, 0, 0, 0, 0, 0, 0, 0, 0, 0], [328, 618, 205, 1152, 1022, 949, 493, 911, 1011, 730, 429, 60, 1086, 1127, 576, 1032, 1099, 12, 1086, 1057, 956, 732, 288, 698, 1112, 1038, 247, 525, 704, 493, 205, 680, 1106, 720, 956, 1061, 191, 105, 672, 205, 328, 562, 1069, 876, 304, 105, 1185, 205, 1061, 429, 357, 105, 11, 1108, 906, 1082, 323, 1152, 1131, 960, 170, 415, 1041, 282, 683, 329, 508, 370, 1160, 554, 836, 205, 60, 0, 0, 0, 0, 0, 0, 0], [308, 1061, 328, 562, 117, 645, 429, 209, 133, 544, 730, 429, 60, 11, 1128, 825, 46, 736, 22, 1086, 1127, 762, 205, 243, 618, 1046, 1032, 415, 1176, 949, 956, 998, 1061, 191, 105, 351, 919, 525, 346, 1141, 205, 328, 275, 598, 121, 194, 22, 506, 501, 818, 705, 11, 496, 960, 648, 197, 562, 205, 328, 429, 692, 1086, 1127, 653, 1160, 295, 906, 1106, 804, 578, 562, 499, 270, 205, 60, 61, 350, 429, 304, 683]]\n"
     ]
    }
   ],
   "source": [
    "print(new_subject[:3])"
   ]
  },
  {
   "cell_type": "code",
   "execution_count": 21,
   "id": "9ee48aa0",
   "metadata": {},
   "outputs": [],
   "source": [
    "# Concatenate subject and body\n",
    "input_data = np.array(new_subject)#.reshape(-1,1)\n",
    "output_data = np.array(target)#.reshape(-1,1)"
   ]
  },
  {
   "cell_type": "code",
   "execution_count": 22,
   "id": "6f01f0ba",
   "metadata": {},
   "outputs": [
    {
     "name": "stdout",
     "output_type": "stream",
     "text": [
      "(154, 80)\n",
      "(154,)\n"
     ]
    }
   ],
   "source": [
    "print(input_data.shape)\n",
    "print(output_data.shape)"
   ]
  },
  {
   "cell_type": "markdown",
   "id": "6e481c05",
   "metadata": {},
   "source": [
    "## Model Building"
   ]
  },
  {
   "cell_type": "markdown",
   "id": "6e88609a",
   "metadata": {},
   "source": [
    "### ML Model"
   ]
  },
  {
   "cell_type": "code",
   "execution_count": 23,
   "id": "5f1c5211",
   "metadata": {},
   "outputs": [],
   "source": [
    "from sklearn.model_selection import train_test_split\n",
    "X_train, X_test, Y_train, Y_test = train_test_split(input_data, output_data, test_size=0.3, random_state=2003)"
   ]
  },
  {
   "cell_type": "code",
   "execution_count": 24,
   "id": "0400f6e9",
   "metadata": {},
   "outputs": [
    {
     "name": "stderr",
     "output_type": "stream",
     "text": [
      "/home/akash/.local/lib/python3.10/site-packages/sklearn/svm/_base.py:1244: ConvergenceWarning: Liblinear failed to converge, increase the number of iterations.\n",
      "  warnings.warn(\n"
     ]
    }
   ],
   "source": [
    "from sklearn.svm import LinearSVC\n",
    "clf = LinearSVC(random_state=0).fit(X_train, Y_train)"
   ]
  },
  {
   "cell_type": "code",
   "execution_count": 25,
   "id": "87d5e937",
   "metadata": {},
   "outputs": [],
   "source": [
    "y_pred = clf.predict(X_test)"
   ]
  },
  {
   "cell_type": "code",
   "execution_count": 26,
   "id": "b2c28891",
   "metadata": {},
   "outputs": [
    {
     "data": {
      "text/plain": [
       "0.5319148936170213"
      ]
     },
     "execution_count": 26,
     "metadata": {},
     "output_type": "execute_result"
    }
   ],
   "source": [
    "clf.score(X_test,Y_test)"
   ]
  },
  {
   "cell_type": "raw",
   "id": "0bc6e18c",
   "metadata": {},
   "source": [
    "We can see that the SVM model does not perform well"
   ]
  },
  {
   "cell_type": "markdown",
   "id": "c340c157",
   "metadata": {},
   "source": [
    "### DL Model"
   ]
  },
  {
   "cell_type": "code",
   "execution_count": 27,
   "id": "e1f410c6",
   "metadata": {},
   "outputs": [],
   "source": [
    "from DL_model import implement_pytorch"
   ]
  },
  {
   "cell_type": "code",
   "execution_count": 28,
   "id": "70f5e076",
   "metadata": {},
   "outputs": [
    {
     "name": "stdout",
     "output_type": "stream",
     "text": [
      "(107, 80) (107,)\n",
      "tensor(3.4742, grad_fn=<NllLossBackward0>)\n"
     ]
    },
    {
     "name": "stderr",
     "output_type": "stream",
     "text": [
      "/home/akash/Desktop/Random/Assignment/DL_model.py:41: UserWarning: To copy construct from a tensor, it is recommended to use sourceTensor.clone().detach() or sourceTensor.clone().detach().requires_grad_(True), rather than torch.tensor(sourceTensor).\n",
      "  y_batch = torch.tensor(y[i:i+batch_size]).long()\n"
     ]
    },
    {
     "name": "stdout",
     "output_type": "stream",
     "text": [
      "tensor(0.9675, grad_fn=<NllLossBackward0>)\n",
      "tensor(0.6809, grad_fn=<NllLossBackward0>)\n",
      "tensor(0.5712, grad_fn=<NllLossBackward0>)\n",
      "tensor(0.5246, grad_fn=<NllLossBackward0>)\n",
      "Accuracy is : tensor(0.3750)\n"
     ]
    }
   ],
   "source": [
    "print(X_train.shape,Y_train.shape)\n",
    "batch_size = 8\n",
    "implement_pytorch(X_train.astype(np.float32),Y_train.astype(np.float32),batch_size)"
   ]
  },
  {
   "cell_type": "markdown",
   "id": "8b51eedf",
   "metadata": {},
   "source": [
    "### GloVe Embeddings"
   ]
  },
  {
   "cell_type": "code",
   "execution_count": 29,
   "id": "88f7d972",
   "metadata": {},
   "outputs": [],
   "source": [
    "from DL_model import implement_with_GloVe"
   ]
  },
  {
   "cell_type": "code",
   "execution_count": 30,
   "id": "91e72f19",
   "metadata": {},
   "outputs": [
    {
     "ename": "AttributeError",
     "evalue": "'str' object has no attribute 'values'",
     "output_type": "error",
     "traceback": [
      "\u001b[0;31m---------------------------------------------------------------------------\u001b[0m",
      "\u001b[0;31mAttributeError\u001b[0m                            Traceback (most recent call last)",
      "\u001b[0;32m/tmp/ipykernel_8463/2476560107.py\u001b[0m in \u001b[0;36m<module>\u001b[0;34m\u001b[0m\n\u001b[1;32m      4\u001b[0m \u001b[0mOUTPUT_DIM\u001b[0m \u001b[0;34m=\u001b[0m \u001b[0;36m4\u001b[0m\u001b[0;34m\u001b[0m\u001b[0;34m\u001b[0m\u001b[0m\n\u001b[1;32m      5\u001b[0m \u001b[0;34m\u001b[0m\u001b[0m\n\u001b[0;32m----> 6\u001b[0;31m \u001b[0mimplement_with_GloVe\u001b[0m\u001b[0;34m(\u001b[0m\u001b[0mdf\u001b[0m\u001b[0;34m,\u001b[0m \u001b[0mlen\u001b[0m\u001b[0;34m(\u001b[0m\u001b[0mword_to_idx\u001b[0m\u001b[0;34m)\u001b[0m\u001b[0;34m,\u001b[0m \u001b[0mEMBEDDING_DIM\u001b[0m\u001b[0;34m,\u001b[0m \u001b[0mHIDDEN_DIM\u001b[0m\u001b[0;34m,\u001b[0m \u001b[0mOUTPUT_DIM\u001b[0m\u001b[0;34m,\u001b[0m \u001b[0mbatch_size\u001b[0m\u001b[0;34m)\u001b[0m\u001b[0;34m\u001b[0m\u001b[0;34m\u001b[0m\u001b[0m\n\u001b[0m",
      "\u001b[0;32m~/Desktop/Random/Assignment/DL_model.py\u001b[0m in \u001b[0;36mimplement_with_GloVe\u001b[0;34m(df, INPUT_DIM, EMBEDDING_DIM, HIDDEN_DIM, OUTPUT_DIM, batch_size)\u001b[0m\n\u001b[1;32m    100\u001b[0m     \u001b[0;32mfor\u001b[0m \u001b[0midx\u001b[0m \u001b[0;32min\u001b[0m \u001b[0mrange\u001b[0m\u001b[0;34m(\u001b[0m\u001b[0;36m0\u001b[0m\u001b[0;34m,\u001b[0m\u001b[0mlen\u001b[0m\u001b[0;34m(\u001b[0m\u001b[0mdf\u001b[0m\u001b[0;34m)\u001b[0m\u001b[0;34m,\u001b[0m\u001b[0mbatch_size\u001b[0m\u001b[0;34m)\u001b[0m\u001b[0;34m:\u001b[0m\u001b[0;34m\u001b[0m\u001b[0;34m\u001b[0m\u001b[0m\n\u001b[1;32m    101\u001b[0m         \u001b[0minput_data\u001b[0m\u001b[0;34m,\u001b[0m \u001b[0mtarget\u001b[0m \u001b[0;34m=\u001b[0m \u001b[0mdf\u001b[0m\u001b[0;34m[\u001b[0m\u001b[0midx\u001b[0m\u001b[0;34m:\u001b[0m\u001b[0midx\u001b[0m\u001b[0;34m+\u001b[0m\u001b[0mbatch_size\u001b[0m\u001b[0;34m]\u001b[0m\u001b[0;34m[\u001b[0m\u001b[0mcol1\u001b[0m\u001b[0;34m]\u001b[0m \u001b[0;34m+\u001b[0m\u001b[0;34m\" \"\u001b[0m\u001b[0;34m+\u001b[0m  \u001b[0mdf\u001b[0m\u001b[0;34m[\u001b[0m\u001b[0midx\u001b[0m\u001b[0;34m:\u001b[0m\u001b[0midx\u001b[0m\u001b[0;34m+\u001b[0m\u001b[0mbatch_size\u001b[0m\u001b[0;34m]\u001b[0m\u001b[0;34m[\u001b[0m\u001b[0mcol2\u001b[0m\u001b[0;34m]\u001b[0m\u001b[0;34m,\u001b[0m \u001b[0mdf\u001b[0m\u001b[0;34m[\u001b[0m\u001b[0midx\u001b[0m\u001b[0;34m:\u001b[0m\u001b[0midx\u001b[0m\u001b[0;34m+\u001b[0m\u001b[0mbatch_size\u001b[0m\u001b[0;34m]\u001b[0m\u001b[0;34m[\u001b[0m\u001b[0mtarget\u001b[0m\u001b[0;34m]\u001b[0m\u001b[0;34m\u001b[0m\u001b[0;34m\u001b[0m\u001b[0m\n\u001b[0;32m--> 102\u001b[0;31m         \u001b[0minput_glove_data\u001b[0m \u001b[0;34m=\u001b[0m \u001b[0mget_glove_values\u001b[0m\u001b[0;34m(\u001b[0m\u001b[0minput_data\u001b[0m\u001b[0;34m)\u001b[0m\u001b[0;34m\u001b[0m\u001b[0;34m\u001b[0m\u001b[0m\n\u001b[0m\u001b[1;32m    103\u001b[0m         \u001b[0mtarget_data\u001b[0m \u001b[0;34m=\u001b[0m \u001b[0mtarget\u001b[0m\u001b[0;34m.\u001b[0m\u001b[0mastype\u001b[0m\u001b[0;34m(\u001b[0m\u001b[0mnp\u001b[0m\u001b[0;34m.\u001b[0m\u001b[0mfloat32\u001b[0m\u001b[0;34m)\u001b[0m\u001b[0;34m\u001b[0m\u001b[0;34m\u001b[0m\u001b[0m\n\u001b[1;32m    104\u001b[0m         \u001b[0;31m#train_glove(input_data, target_data)\u001b[0m\u001b[0;34m\u001b[0m\u001b[0;34m\u001b[0m\u001b[0m\n",
      "\u001b[0;32m~/Desktop/Random/Assignment/DL_model.py\u001b[0m in \u001b[0;36mget_glove_values\u001b[0;34m(df)\u001b[0m\n\u001b[1;32m     81\u001b[0m     \u001b[0minput_data\u001b[0m \u001b[0;34m=\u001b[0m \u001b[0;34m[\u001b[0m\u001b[0;34m]\u001b[0m\u001b[0;34m\u001b[0m\u001b[0;34m\u001b[0m\u001b[0m\n\u001b[1;32m     82\u001b[0m     \u001b[0;32mfor\u001b[0m \u001b[0midx\u001b[0m \u001b[0;32min\u001b[0m \u001b[0mrange\u001b[0m\u001b[0;34m(\u001b[0m\u001b[0;36m0\u001b[0m\u001b[0;34m,\u001b[0m\u001b[0mlen\u001b[0m\u001b[0;34m(\u001b[0m\u001b[0mdf\u001b[0m\u001b[0;34m)\u001b[0m\u001b[0;34m)\u001b[0m\u001b[0;34m:\u001b[0m\u001b[0;34m\u001b[0m\u001b[0;34m\u001b[0m\u001b[0m\n\u001b[0;32m---> 83\u001b[0;31m         \u001b[0msentence\u001b[0m \u001b[0;34m=\u001b[0m \u001b[0mdf\u001b[0m\u001b[0;34m[\u001b[0m\u001b[0midx\u001b[0m\u001b[0;34m]\u001b[0m\u001b[0;34m.\u001b[0m\u001b[0mvalues\u001b[0m\u001b[0;34m.\u001b[0m\u001b[0msplit\u001b[0m\u001b[0;34m(\u001b[0m\u001b[0;34m)\u001b[0m\u001b[0;34m\u001b[0m\u001b[0;34m\u001b[0m\u001b[0m\n\u001b[0m\u001b[1;32m     84\u001b[0m         \u001b[0msentence_vector\u001b[0m \u001b[0;34m=\u001b[0m \u001b[0;34m[\u001b[0m\u001b[0;34m]\u001b[0m\u001b[0;34m\u001b[0m\u001b[0;34m\u001b[0m\u001b[0m\n\u001b[1;32m     85\u001b[0m         \u001b[0;32mfor\u001b[0m \u001b[0mword\u001b[0m \u001b[0;32min\u001b[0m \u001b[0msentence\u001b[0m\u001b[0;34m:\u001b[0m\u001b[0;34m\u001b[0m\u001b[0;34m\u001b[0m\u001b[0m\n",
      "\u001b[0;31mAttributeError\u001b[0m: 'str' object has no attribute 'values'"
     ]
    }
   ],
   "source": [
    "batch_size = 8\n",
    "EMBEDDING_DIM = 300\n",
    "HIDDEN_DIM = 375\n",
    "OUTPUT_DIM = 4\n",
    "\n",
    "implement_with_GloVe(df, len(word_to_idx), EMBEDDING_DIM, HIDDEN_DIM, OUTPUT_DIM, batch_size)"
   ]
  },
  {
   "cell_type": "code",
   "execution_count": null,
   "id": "30cbeb15",
   "metadata": {},
   "outputs": [],
   "source": []
  },
  {
   "cell_type": "markdown",
   "id": "e0b0df0d",
   "metadata": {},
   "source": [
    "## Accuracy or Prediction"
   ]
  },
  {
   "cell_type": "code",
   "execution_count": null,
   "id": "779c91c5",
   "metadata": {},
   "outputs": [],
   "source": []
  },
  {
   "cell_type": "code",
   "execution_count": null,
   "id": "37ecb0a0",
   "metadata": {},
   "outputs": [],
   "source": []
  }
 ],
 "metadata": {
  "kernelspec": {
   "display_name": "Python 3 (ipykernel)",
   "language": "python",
   "name": "python3"
  },
  "language_info": {
   "codemirror_mode": {
    "name": "ipython",
    "version": 3
   },
   "file_extension": ".py",
   "mimetype": "text/x-python",
   "name": "python",
   "nbconvert_exporter": "python",
   "pygments_lexer": "ipython3",
   "version": "3.10.12"
  }
 },
 "nbformat": 4,
 "nbformat_minor": 5
}
